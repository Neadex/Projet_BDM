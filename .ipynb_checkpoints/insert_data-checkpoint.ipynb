{
 "cells": [
  {
   "cell_type": "code",
   "execution_count": 1,
   "metadata": {},
   "outputs": [],
   "source": [
    "import pandas as pd\n",
    "\n",
    "path = 'datasets/data_cleaned.xlsx'\n",
    "df = pd.read_excel(path)"
   ]
  },
  {
   "cell_type": "code",
   "execution_count": 87,
   "metadata": {
    "scrolled": false
   },
   "outputs": [
    {
     "data": {
      "text/plain": [
       "['Annee',\n",
       " 'Diplôme',\n",
       " \"Numéro de l'établissement\",\n",
       " 'Etablissement',\n",
       " \"Code de l'académie\",\n",
       " 'Académie',\n",
       " 'Code du domaine',\n",
       " 'Domaine',\n",
       " 'Code de la discipline',\n",
       " 'Discipline',\n",
       " 'situation',\n",
       " \"Taux d'insertion\",\n",
       " '% emplois stables',\n",
       " '% emplois à\\xa0 temps plein',\n",
       " 'Salaire brut annuel estimé',\n",
       " '% de diplômés boursiers',\n",
       " '% emplois cadre',\n",
       " \"% emplois extérieurs à\\xa0 la région de l'université\",\n",
       " '% femmes',\n",
       " 'cle_ETAB',\n",
       " 'cle_DISC']"
      ]
     },
     "execution_count": 87,
     "metadata": {},
     "output_type": "execute_result"
    }
   ],
   "source": [
    "ncol = len(df.columns)\n",
    "\n",
    "cols = [x for x in df.columns.values]\n",
    "col_str = ', '.join(cols)\n",
    "\n",
    "cols"
   ]
  },
  {
   "cell_type": "code",
   "execution_count": 28,
   "metadata": {},
   "outputs": [
    {
     "name": "stdout",
     "output_type": "stream",
     "text": [
      "[2014, \"'MASTER LMD'\", \"'0511296G'\", \"'Reims - Champagne Ardenne'\", \"'A19'\", \"'Reims'\", \"'STS'\", \"'Sciences, technologies et santé'\", \"'disc14'\", \"'Sciences fondamentales'\", \"'30 mois après le diplôme'\", 91, None, None, None, 36.0, None, None, 56, \"'Reims - Champagne Ardenne_30'\", \"'disc14_30'\"]\n",
      "INSERT INTO insertion(Annee, Dipl, NumeroETA, Eta, CodeACA, ACA, CodeDOM, Dom, CodeDISC, DISC, Situation, TXinsertion, TXstables, TXtplein, Salaire, TXboursiers, TXcadre, TXexterieurs, TXfemmes, cle_ETAB, cle_DISC) VALUES(2014, 'MASTER LMD', '0511296G', 'Reims - Champagne Ardenne', 'A19', 'Reims', 'STS', 'Sciences, technologies et santé', 'disc14', 'Sciences fondamentales', '30 mois après le diplôme', 91, None, None, None, 36.0, None, None, 56, 'Reims - Champagne Ardenne_30', 'disc14_30')\n"
     ]
    },
    {
     "name": "stderr",
     "output_type": "stream",
     "text": [
      "/usr/local/lib/python3.6/dist-packages/ipykernel_launcher.py:38: DeprecationWarning: The 'warn' method is deprecated, use 'warning' instead\n"
     ]
    },
    {
     "ename": "SyntaxException",
     "evalue": "<Error from server: code=2000 [Syntax error in CQL query] message=\"line 1:413 no viable alternative at input ',' (... 'Sciences fondamentales', '30 mois après le diplôme', 91, [None],...)\">",
     "output_type": "error",
     "traceback": [
      "\u001b[0;31m---------------------------------------------------------------------------\u001b[0m",
      "\u001b[0;31mSyntaxException\u001b[0m                           Traceback (most recent call last)",
      "\u001b[0;32m<ipython-input-28-20abcbbd095f>\u001b[0m in \u001b[0;36m<module>\u001b[0;34m()\u001b[0m\n\u001b[1;32m     49\u001b[0m \u001b[0;34m\u001b[0m\u001b[0m\n\u001b[1;32m     50\u001b[0m \u001b[0;34m\u001b[0m\u001b[0m\n\u001b[0;32m---> 51\u001b[0;31m \u001b[0mexecute_query\u001b[0m\u001b[0;34m(\u001b[0m\u001b[0mget_query\u001b[0m\u001b[0;34m(\u001b[0m\u001b[0mdf\u001b[0m\u001b[0;34m.\u001b[0m\u001b[0mloc\u001b[0m\u001b[0;34m[\u001b[0m\u001b[0;36m1\u001b[0m\u001b[0;34m]\u001b[0m\u001b[0;34m)\u001b[0m\u001b[0;34m)\u001b[0m\u001b[0;34m\u001b[0m\u001b[0m\n\u001b[0m",
      "\u001b[0;32m<ipython-input-28-20abcbbd095f>\u001b[0m in \u001b[0;36mexecute_query\u001b[0;34m(query)\u001b[0m\n\u001b[1;32m     38\u001b[0m     \u001b[0mcluster\u001b[0m \u001b[0;34m=\u001b[0m \u001b[0mCluster\u001b[0m\u001b[0;34m(\u001b[0m\u001b[0;34m[\u001b[0m\u001b[0;34m'172.17.0.2'\u001b[0m\u001b[0;34m]\u001b[0m\u001b[0;34m)\u001b[0m\u001b[0;34m\u001b[0m\u001b[0m\n\u001b[1;32m     39\u001b[0m     \u001b[0msession\u001b[0m \u001b[0;34m=\u001b[0m \u001b[0mcluster\u001b[0m\u001b[0;34m.\u001b[0m\u001b[0mconnect\u001b[0m\u001b[0;34m(\u001b[0m\u001b[0;34m'univ'\u001b[0m\u001b[0;34m)\u001b[0m\u001b[0;34m\u001b[0m\u001b[0m\n\u001b[0;32m---> 40\u001b[0;31m     \u001b[0msession\u001b[0m\u001b[0;34m.\u001b[0m\u001b[0mexecute\u001b[0m\u001b[0;34m(\u001b[0m\u001b[0mquery\u001b[0m\u001b[0;34m)\u001b[0m\u001b[0;34m\u001b[0m\u001b[0m\n\u001b[0m\u001b[1;32m     41\u001b[0m     \u001b[0msession\u001b[0m\u001b[0;34m.\u001b[0m\u001b[0mshutdown\u001b[0m\u001b[0;34m(\u001b[0m\u001b[0;34m)\u001b[0m\u001b[0;34m\u001b[0m\u001b[0m\n\u001b[1;32m     42\u001b[0m \u001b[0;34m\u001b[0m\u001b[0m\n",
      "\u001b[0;32m/usr/local/lib/python3.6/dist-packages/cassandra/cluster.cpython-36m-x86_64-linux-gnu.so\u001b[0m in \u001b[0;36mcassandra.cluster.Session.execute\u001b[0;34m()\u001b[0m\n",
      "\u001b[0;32m/usr/local/lib/python3.6/dist-packages/cassandra/cluster.cpython-36m-x86_64-linux-gnu.so\u001b[0m in \u001b[0;36mcassandra.cluster.ResponseFuture.result\u001b[0;34m()\u001b[0m\n",
      "\u001b[0;31mSyntaxException\u001b[0m: <Error from server: code=2000 [Syntax error in CQL query] message=\"line 1:413 no viable alternative at input ',' (... 'Sciences fondamentales', '30 mois après le diplôme', 91, [None],...)\">"
     ]
    }
   ],
   "source": [
    "from cassandra.cluster import Cluster\n",
    "from cassandra.query import UNSET_VALUE\n",
    "from unidecode import unidecode\n",
    "\n",
    "def get_query(dfrow):\n",
    "    # dfrow = df.loc[.]\n",
    "    \n",
    "    dfrow.values\n",
    "    vals = [x for x in df.loc[2]]\n",
    "    parsed = []\n",
    "    for e in vals:\n",
    "        try:\n",
    "            if e == 'ns':\n",
    "                parsed.append(None)\n",
    "            else:\n",
    "                val = unidecode(e)\n",
    "                val = '\\''+ e +'\\''\n",
    "                parsed.append(val)\n",
    "        except:\n",
    "            parsed.append(e)\n",
    "\n",
    "    print(parsed)\n",
    "    cols = ['Annee','Dipl','NumeroETA','Eta','CodeACA','ACA','CodeDOM','Dom','CodeDISC','DISC','Situation',\n",
    "    'TXinsertion','TXstables','TXtplein','Salaire','TXboursiers','TXcadre','TXexterieurs','TXfemmes','cle_ETAB',\n",
    "    'cle_DISC']\n",
    "    ncol = len(cols)\n",
    "    col_str = ', '.join(cols)\n",
    "\n",
    "    placeholder = '%s, '* ncol\n",
    "    placeholder = placeholder[:-2]\n",
    "\n",
    "    cmd = 'INSERT INTO insertion('+col_str+') VALUES('+placeholder+')'\n",
    "    query = cmd % tuple(parsed)\n",
    "    print(query)\n",
    "    return query\n",
    "\n",
    "def execute_query(query):\n",
    "    cluster = Cluster(['172.17.0.2'])\n",
    "    session = cluster.connect('univ')\n",
    "    session.execute(query)\n",
    "    session.shutdown()\n",
    "    \n",
    "def insert_df(df):\n",
    "    \n",
    "    for i in df.index:\n",
    "        query = get_query(df.loc[i])\n",
    "        execute_query(query)\n",
    "        \n",
    "\n",
    "\n",
    "execute_query(get_query(df.loc[1]))"
   ]
  },
  {
   "cell_type": "code",
   "execution_count": 29,
   "metadata": {
    "scrolled": true
   },
   "outputs": [
    {
     "data": {
      "text/plain": [
       "<object at 0x7f0fb41213b0>"
      ]
     },
     "execution_count": 29,
     "metadata": {},
     "output_type": "execute_result"
    }
   ],
   "source": [
    "UNSET_VALUE"
   ]
  },
  {
   "cell_type": "code",
   "execution_count": 33,
   "metadata": {},
   "outputs": [
    {
     "name": "stderr",
     "output_type": "stream",
     "text": [
      "/usr/local/lib/python3.6/dist-packages/ipykernel_launcher.py:1: DeprecationWarning: The 'warn' method is deprecated, use 'warning' instead\n",
      "  \"\"\"Entry point for launching an IPython kernel.\n"
     ]
    },
    {
     "ename": "InvalidRequest",
     "evalue": "Error from server: code=2200 [Invalid query] message=\"Undefined column name id_tweet\"",
     "output_type": "error",
     "traceback": [
      "\u001b[0;31m---------------------------------------------------------------------------\u001b[0m",
      "\u001b[0;31mInvalidRequest\u001b[0m                            Traceback (most recent call last)",
      "\u001b[0;32m<ipython-input-33-0e1c5ef33310>\u001b[0m in \u001b[0;36m<module>\u001b[0;34m()\u001b[0m\n\u001b[1;32m      1\u001b[0m \u001b[0mcluster\u001b[0m \u001b[0;34m=\u001b[0m \u001b[0mCluster\u001b[0m\u001b[0;34m(\u001b[0m\u001b[0;34m[\u001b[0m\u001b[0;34m'172.17.0.2'\u001b[0m\u001b[0;34m]\u001b[0m\u001b[0;34m)\u001b[0m\u001b[0;34m\u001b[0m\u001b[0m\n\u001b[1;32m      2\u001b[0m \u001b[0msession\u001b[0m \u001b[0;34m=\u001b[0m \u001b[0mcluster\u001b[0m\u001b[0;34m.\u001b[0m\u001b[0mconnect\u001b[0m\u001b[0;34m(\u001b[0m\u001b[0;34m'univ'\u001b[0m\u001b[0;34m)\u001b[0m\u001b[0;34m\u001b[0m\u001b[0m\n\u001b[0;32m----> 3\u001b[0;31m \u001b[0mps\u001b[0m \u001b[0;34m=\u001b[0m \u001b[0msession\u001b[0m\u001b[0;34m.\u001b[0m\u001b[0mprepare\u001b[0m\u001b[0;34m(\u001b[0m\u001b[0;34m\"insert into insertion(id_tweet,texttweet,hashtag,url) values (?,?,?,?)\"\u001b[0m\u001b[0;34m)\u001b[0m\u001b[0;34m\u001b[0m\u001b[0m\n\u001b[0m\u001b[1;32m      4\u001b[0m \u001b[0;31m#session.execute(ps, (\"id\", \"hello world!\", UNSET_VALUE, UNSET_VALUE));\u001b[0m\u001b[0;34m\u001b[0m\u001b[0;34m\u001b[0m\u001b[0m\n",
      "\u001b[0;32m/usr/local/lib/python3.6/dist-packages/cassandra/cluster.cpython-36m-x86_64-linux-gnu.so\u001b[0m in \u001b[0;36mcassandra.cluster.Session.prepare\u001b[0;34m()\u001b[0m\n",
      "\u001b[0;32m/usr/local/lib/python3.6/dist-packages/cassandra/cluster.cpython-36m-x86_64-linux-gnu.so\u001b[0m in \u001b[0;36mcassandra.cluster.Session.prepare\u001b[0;34m()\u001b[0m\n",
      "\u001b[0;32m/usr/local/lib/python3.6/dist-packages/cassandra/cluster.cpython-36m-x86_64-linux-gnu.so\u001b[0m in \u001b[0;36mcassandra.cluster.ResponseFuture.result\u001b[0;34m()\u001b[0m\n",
      "\u001b[0;31mInvalidRequest\u001b[0m: Error from server: code=2200 [Invalid query] message=\"Undefined column name id_tweet\""
     ]
    }
   ],
   "source": [
    "cluster = Cluster(['172.17.0.2'])\n",
    "session = cluster.connect('univ')\n",
    "ps = session.prepare(\"insert into insertion(id_tweet,texttweet,hashtag,url) values (?,?,?,?)\")\n",
    "#session.execute(ps, (\"id\", \"hello world!\", UNSET_VALUE, UNSET_VALUE));"
   ]
  }
 ],
 "metadata": {
  "kernelspec": {
   "display_name": "Python 3",
   "language": "python",
   "name": "python3"
  },
  "language_info": {
   "codemirror_mode": {
    "name": "ipython",
    "version": 3
   },
   "file_extension": ".py",
   "mimetype": "text/x-python",
   "name": "python",
   "nbconvert_exporter": "python",
   "pygments_lexer": "ipython3",
   "version": "3.6.2"
  }
 },
 "nbformat": 4,
 "nbformat_minor": 2
}
